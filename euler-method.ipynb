{
 "cells": [
  {
   "cell_type": "markdown",
   "metadata": {},
   "source": [
    "# Euler Method"
   ]
  },
  {
   "cell_type": "code",
   "execution_count": 1,
   "metadata": {},
   "outputs": [],
   "source": [
    "import matplotlib.pyplot as plt\n",
    "import numpy as np"
   ]
  },
  {
   "cell_type": "markdown",
   "metadata": {},
   "source": [
    "We want to find a numerical solution (i.e. the shape of $x(t)$ given following equation.\n",
    "\n",
    "\\begin{align}\n",
    "\\dot{x}(t) + a_1x(t) = b_0 + b_1u(t)\n",
    "\\end{align}\n",
    "\n",
    "We rewrite it to have the first derivative on the left side:\n",
    "\n",
    "\\begin{align}\n",
    "\\dot{x}(t) = b_0 + b_1u(t) - a_1x(t)\n",
    "\\end{align}\n",
    "\n",
    "Given initial value for $x(t=0)$ we can derive $x(t)$ by integrating\n",
    "\n",
    "\\begin{align}\n",
    "x(t) = \\int_{\\tau=0}^{t}[b_0 + b_1u(t) - a_1x(t)] \\text{d}\\tau\n",
    "\\end{align}\n",
    "\n",
    "We can approximate above equation using small steps $T$:\n",
    "\n",
    "\\begin{align}\n",
    "x(k+1) = T\\sum_{i=0}^{k}b_0 + b_1u(i) - a_1x(i)\n",
    "\\end{align}\n",
    "\n",
    "We can do that incrementally too (rectangle method from the left side):\n",
    "\n",
    "\\begin{align}\n",
    "x(k+1) \\approx x(k) + T\\left[b_0 + b_1u(k) - a_1x(k)\\right]\n",
    "\\end{align}"
   ]
  },
  {
   "cell_type": "code",
   "execution_count": 2,
   "metadata": {},
   "outputs": [],
   "source": [
    "# step function\n",
    "def u(t):\n",
    "    if t>0:\n",
    "        return 1\n",
    "    else:\n",
    "        return 0"
   ]
  },
  {
   "cell_type": "code",
   "execution_count": 3,
   "metadata": {},
   "outputs": [],
   "source": [
    "T=1e-3"
   ]
  },
  {
   "cell_type": "code",
   "execution_count": 4,
   "metadata": {},
   "outputs": [],
   "source": [
    "b0, b1, a1 = 1, 2, 1"
   ]
  },
  {
   "cell_type": "code",
   "execution_count": 5,
   "metadata": {},
   "outputs": [],
   "source": [
    "t_sim = np.arange(0, 2, T)\n",
    "x_t = np.zeros_like(t_sim)\n",
    "n_steps = t_sim.size"
   ]
  },
  {
   "cell_type": "code",
   "execution_count": 6,
   "metadata": {},
   "outputs": [],
   "source": [
    "x_k = 0\n",
    "for i in range(n_steps):\n",
    "    x_t[i] = x_k + T*(b0 + b1*u(i)+x_k)\n",
    "    x_k = x_t[i]"
   ]
  },
  {
   "cell_type": "code",
   "execution_count": 7,
   "metadata": {},
   "outputs": [
    {
     "data": {
      "image/png": "[encoded data removed]",
      "text/plain": [
       "<Figure size 1080x360 with 2 Axes>"
      ]
     },
     "metadata": {
      "needs_background": "light"
     },
     "output_type": "display_data"
    }
   ],
   "source": [
    "fig, ax = plt.subplots(nrows=2, figsize=(15, 5), sharex=True)\n",
    "ax[0].plot(t_sim, [u(t) for t in range(len(t_sim))])\n",
    "ax[0].set_title(\"input $u(t)$ - step function\")\n",
    "ax[0].grid(True)\n",
    "ax[1].plot(t_sim, x_t)\n",
    "ax[1].set_title(\"output $x(t)$\")\n",
    "ax[-1].set_xlabel(\"t [s]\")\n",
    "ax[-1].set_xlim([-5e-3, 2])\n",
    "ax[-1].set_ylim([0, 30])\n",
    "ax[-1].grid(True)"
   ]
  },
  {
   "cell_type": "code",
   "execution_count": null,
   "metadata": {},
   "outputs": [],
   "source": []
  }
 ],
 "metadata": {
  "kernelspec": {
   "display_name": "Python 3",
   "language": "python",
   "name": "python3"
  },
  "language_info": {
   "codemirror_mode": {
    "name": "ipython",
    "version": 3
   },
   "file_extension": ".py",
   "mimetype": "text/x-python",
   "name": "python",
   "nbconvert_exporter": "python",
   "pygments_lexer": "ipython3",
   "version": "3.7.3"
  }
 },
 "nbformat": 4,
 "nbformat_minor": 2
}
